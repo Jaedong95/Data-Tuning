{
 "cells": [
  {
   "cell_type": "code",
   "execution_count": 1,
   "id": "a78b8704",
   "metadata": {},
   "outputs": [],
   "source": [
    "import pandas as pd\n",
    "import pickle\n",
    "import pymysql\n",
    "import csv\n",
    "import os "
   ]
  },
  {
   "cell_type": "code",
   "execution_count": 41,
   "id": "e7199323",
   "metadata": {},
   "outputs": [],
   "source": [
    "default_path = os.getcwd()\n",
    "data_path = os.path.join(default_path, 'data')"
   ]
  },
  {
   "cell_type": "code",
   "execution_count": 42,
   "id": "10b21f9d",
   "metadata": {
    "scrolled": true
   },
   "outputs": [],
   "source": [
    "conn = pymysql.connect(host='localhost', user='cori', password='Dhwoehd12!', db='task1', charset='utf8')\n",
    "curs = conn.cursor()"
   ]
  },
  {
   "cell_type": "code",
   "execution_count": 43,
   "id": "7cd306be",
   "metadata": {},
   "outputs": [],
   "source": [
    "def execute_sql(sql):\n",
    "    curs.execute(sql)\n",
    "    return curs.fetchall()"
   ]
  },
  {
   "cell_type": "code",
   "execution_count": 44,
   "id": "5cbe0569",
   "metadata": {},
   "outputs": [
    {
     "data": {
      "text/plain": [
       "(('check_upload',),\n",
       " ('dsm_criteria',),\n",
       " ('dsm_table',),\n",
       " ('map_criteria',),\n",
       " ('upload_data',))"
      ]
     },
     "execution_count": 44,
     "metadata": {},
     "output_type": "execute_result"
    }
   ],
   "source": [
    "sql = 'SHOW TABLES;'\n",
    "\n",
    "execute_sql(sql)"
   ]
  },
  {
   "cell_type": "code",
   "execution_count": 49,
   "id": "01ba3298",
   "metadata": {},
   "outputs": [],
   "source": [
    "def update_sql():\n",
    "    curs.fetchall()\n",
    "    curs.close()\n",
    "    conn.commit()"
   ]
  },
  {
   "cell_type": "code",
   "execution_count": 50,
   "id": "af59f58a",
   "metadata": {},
   "outputs": [],
   "source": [
    "sql = f'UPDATE check_upload SET checked = 100 and filename = \"test.csv\";' \n",
    "execute_sql(sql)\n",
    "update_sql()"
   ]
  },
  {
   "cell_type": "code",
   "execution_count": null,
   "id": "8668036e",
   "metadata": {},
   "outputs": [],
   "source": []
  },
  {
   "cell_type": "code",
   "execution_count": 30,
   "id": "c0e847b8",
   "metadata": {},
   "outputs": [
    {
     "data": {
      "text/plain": [
       "()"
      ]
     },
     "execution_count": 30,
     "metadata": {},
     "output_type": "execute_result"
    }
   ],
   "source": [
    "sql = \"CREATE TABLE check_upload(idx int NOT NULL, \\\n",
    "checked int NOT NULL, \\\n",
    "filename varchar(1000) NOT NULL, \\\n",
    "PRIMARY KEY(idx) \\\n",
    ")\"\n",
    "\n",
    "execute_sql(sql)"
   ]
  },
  {
   "cell_type": "code",
   "execution_count": 38,
   "id": "a7cbb49d",
   "metadata": {},
   "outputs": [
    {
     "data": {
      "text/plain": [
       "()"
      ]
     },
     "execution_count": 38,
     "metadata": {},
     "output_type": "execute_result"
    }
   ],
   "source": [
    "sql = \"UPDATE check_upload SET filename = 'test' WHERE idx=0\"\n",
    "execute_sql(sql)"
   ]
  },
  {
   "cell_type": "code",
   "execution_count": 39,
   "id": "b351893f",
   "metadata": {},
   "outputs": [
    {
     "data": {
      "text/plain": [
       "((0, 0, 'test'),)"
      ]
     },
     "execution_count": 39,
     "metadata": {},
     "output_type": "execute_result"
    }
   ],
   "source": [
    "sql = 'SELECT * FROM check_upload;'\n",
    "\n",
    "execute_sql(sql)"
   ]
  },
  {
   "cell_type": "code",
   "execution_count": 31,
   "id": "c94408b3",
   "metadata": {},
   "outputs": [
    {
     "data": {
      "text/plain": [
       "(('idx', 'int', 'NO', 'PRI', None, ''),\n",
       " ('checked', 'int', 'NO', '', None, ''),\n",
       " ('filename', 'varchar(1000)', 'NO', '', None, ''))"
      ]
     },
     "execution_count": 31,
     "metadata": {},
     "output_type": "execute_result"
    }
   ],
   "source": [
    "sql = 'DESC check_upload;'\n",
    "\n",
    "execute_sql(sql)"
   ]
  },
  {
   "cell_type": "code",
   "execution_count": 32,
   "id": "424bd304",
   "metadata": {},
   "outputs": [
    {
     "data": {
      "text/plain": [
       "()"
      ]
     },
     "execution_count": 32,
     "metadata": {},
     "output_type": "execute_result"
    }
   ],
   "source": [
    "sql = \"INSERT INTO check_upload VALUES (0, 9999, '')\"\n",
    "execute_sql(sql)"
   ]
  },
  {
   "cell_type": "code",
   "execution_count": 29,
   "id": "8080754a",
   "metadata": {},
   "outputs": [
    {
     "data": {
      "text/plain": [
       "()"
      ]
     },
     "execution_count": 29,
     "metadata": {},
     "output_type": "execute_result"
    }
   ],
   "source": [
    "sql = \"DROP TABLE check_upload\"\n",
    "\n",
    "execute_sql(sql)"
   ]
  },
  {
   "cell_type": "code",
   "execution_count": 27,
   "id": "c8cc7455",
   "metadata": {},
   "outputs": [
    {
     "data": {
      "text/plain": [
       "()"
      ]
     },
     "execution_count": 27,
     "metadata": {},
     "output_type": "execute_result"
    }
   ],
   "source": [
    "sql = \"CREATE TABLE upload_data(idx int NOT NULL, \\\n",
    "text varchar(2000) NOT NULL, \\\n",
    "label int NOT NULL, \\\n",
    "annot int NOT NULL, \\\n",
    "PRIMARY KEY(idx) \\\n",
    ")\"\n",
    "\n",
    "execute_sql(sql)"
   ]
  },
  {
   "cell_type": "code",
   "execution_count": 26,
   "id": "a0b0069f",
   "metadata": {},
   "outputs": [
    {
     "data": {
      "text/plain": [
       "()"
      ]
     },
     "execution_count": 26,
     "metadata": {},
     "output_type": "execute_result"
    }
   ],
   "source": [
    "sql = \"DROP TABLE upload_data\"\n",
    "\n",
    "execute_sql(sql)"
   ]
  },
  {
   "cell_type": "code",
   "execution_count": 33,
   "id": "40f99beb",
   "metadata": {},
   "outputs": [],
   "source": [
    "curs.fetchall()\n",
    "curs.close()\n",
    "conn.commit()\n",
    "conn.close()"
   ]
  },
  {
   "cell_type": "markdown",
   "id": "a9de05e4",
   "metadata": {},
   "source": [
    "### DSM Data Upload"
   ]
  },
  {
   "cell_type": "code",
   "execution_count": 6,
   "id": "3c6589d6",
   "metadata": {},
   "outputs": [],
   "source": [
    "conn = pymysql.connect(host='localhost', user='cori', password='Dhwoehd12!', db='task1', charset='utf8')\n",
    "curs = conn.cursor()"
   ]
  },
  {
   "cell_type": "code",
   "execution_count": 9,
   "id": "0d9a3c21",
   "metadata": {},
   "outputs": [
    {
     "data": {
      "text/html": [
       "<div>\n",
       "<style scoped>\n",
       "    .dataframe tbody tr th:only-of-type {\n",
       "        vertical-align: middle;\n",
       "    }\n",
       "\n",
       "    .dataframe tbody tr th {\n",
       "        vertical-align: top;\n",
       "    }\n",
       "\n",
       "    .dataframe thead th {\n",
       "        text-align: right;\n",
       "    }\n",
       "</style>\n",
       "<table border=\"1\" class=\"dataframe\">\n",
       "  <thead>\n",
       "    <tr style=\"text-align: right;\">\n",
       "      <th></th>\n",
       "      <th>text</th>\n",
       "      <th>label</th>\n",
       "    </tr>\n",
       "  </thead>\n",
       "  <tbody>\n",
       "    <tr>\n",
       "      <th>0</th>\n",
       "      <td>I say, if your body had balance, you wouldnt f...</td>\n",
       "      <td>0</td>\n",
       "    </tr>\n",
       "    <tr>\n",
       "      <th>1</th>\n",
       "      <td>I'm so tired of feeling sad for no reason</td>\n",
       "      <td>0</td>\n",
       "    </tr>\n",
       "    <tr>\n",
       "      <th>2</th>\n",
       "      <td>I feel left out, like standing in space outsid...</td>\n",
       "      <td>0</td>\n",
       "    </tr>\n",
       "  </tbody>\n",
       "</table>\n",
       "</div>"
      ],
      "text/plain": [
       "                                                text  label\n",
       "0  I say, if your body had balance, you wouldnt f...      0\n",
       "1          I'm so tired of feeling sad for no reason      0\n",
       "2  I feel left out, like standing in space outsid...      0"
      ]
     },
     "execution_count": 9,
     "metadata": {},
     "output_type": "execute_result"
    }
   ],
   "source": [
    "dsm_samp = pd.read_csv(os.path.join(data_path, 'dsm_sample.csv'))\n",
    "dsm_samp.head(3)"
   ]
  },
  {
   "cell_type": "code",
   "execution_count": 10,
   "id": "c5fed889",
   "metadata": {},
   "outputs": [
    {
     "data": {
      "text/html": [
       "<div>\n",
       "<style scoped>\n",
       "    .dataframe tbody tr th:only-of-type {\n",
       "        vertical-align: middle;\n",
       "    }\n",
       "\n",
       "    .dataframe tbody tr th {\n",
       "        vertical-align: top;\n",
       "    }\n",
       "\n",
       "    .dataframe thead th {\n",
       "        text-align: right;\n",
       "    }\n",
       "</style>\n",
       "<table border=\"1\" class=\"dataframe\">\n",
       "  <thead>\n",
       "    <tr style=\"text-align: right;\">\n",
       "      <th></th>\n",
       "      <th>idx</th>\n",
       "      <th>text</th>\n",
       "      <th>label</th>\n",
       "      <th>annot</th>\n",
       "    </tr>\n",
       "  </thead>\n",
       "  <tbody>\n",
       "    <tr>\n",
       "      <th>0</th>\n",
       "      <td>0</td>\n",
       "      <td>I say, if your body had balance, you wouldnt f...</td>\n",
       "      <td>0</td>\n",
       "      <td>9999</td>\n",
       "    </tr>\n",
       "    <tr>\n",
       "      <th>1</th>\n",
       "      <td>1</td>\n",
       "      <td>I'm so tired of feeling sad for no reason</td>\n",
       "      <td>0</td>\n",
       "      <td>9999</td>\n",
       "    </tr>\n",
       "    <tr>\n",
       "      <th>2</th>\n",
       "      <td>2</td>\n",
       "      <td>I feel left out, like standing in space outsid...</td>\n",
       "      <td>0</td>\n",
       "      <td>9999</td>\n",
       "    </tr>\n",
       "  </tbody>\n",
       "</table>\n",
       "</div>"
      ],
      "text/plain": [
       "   idx                                               text  label  annot\n",
       "0    0  I say, if your body had balance, you wouldnt f...      0   9999\n",
       "1    1          I'm so tired of feeling sad for no reason      0   9999\n",
       "2    2  I feel left out, like standing in space outsid...      0   9999"
      ]
     },
     "execution_count": 10,
     "metadata": {},
     "output_type": "execute_result"
    }
   ],
   "source": [
    "dsm_samp['idx'] = dsm_samp.index\n",
    "dsm_samp['annot'] = 9999\n",
    "dsm_samp = dsm_samp[['idx', 'text', 'label', 'annot']]\n",
    "dsm_samp.head(3)"
   ]
  },
  {
   "cell_type": "code",
   "execution_count": null,
   "id": "5b32b501",
   "metadata": {},
   "outputs": [],
   "source": [
    "dsm_samp.to_csv(os.path.join(data_path, 'dsm_db.csv'), index=False)"
   ]
  },
  {
   "cell_type": "code",
   "execution_count": null,
   "id": "08482ec3",
   "metadata": {},
   "outputs": [],
   "source": [
    "sql = \"DROP TABLE map_criteria\"\n",
    "\n",
    "execute_sql(sql)"
   ]
  },
  {
   "cell_type": "code",
   "execution_count": null,
   "id": "be1cebcb",
   "metadata": {},
   "outputs": [],
   "source": [
    "sql = \"DROP TABLE dsm_criteria\"\n",
    "\n",
    "execute_sql(sql)"
   ]
  },
  {
   "cell_type": "code",
   "execution_count": null,
   "id": "a862e5b4",
   "metadata": {},
   "outputs": [],
   "source": [
    "sql = \"DROP TABLE dsm_table\"\n",
    "\n",
    "execute_sql(sql)"
   ]
  },
  {
   "cell_type": "code",
   "execution_count": 11,
   "id": "2654feae",
   "metadata": {},
   "outputs": [
    {
     "data": {
      "text/plain": [
       "()"
      ]
     },
     "execution_count": 11,
     "metadata": {},
     "output_type": "execute_result"
    }
   ],
   "source": [
    "sql = \"CREATE TABLE dsm_criteria(idx int NOT NULL, \\\n",
    "criteria_idx int, \\\n",
    "PRIMARY KEY(idx) \\\n",
    ")\"\n",
    "\n",
    "execute_sql(sql)"
   ]
  },
  {
   "cell_type": "code",
   "execution_count": 12,
   "id": "46613f64",
   "metadata": {},
   "outputs": [
    {
     "data": {
      "text/plain": [
       "()"
      ]
     },
     "execution_count": 12,
     "metadata": {},
     "output_type": "execute_result"
    }
   ],
   "source": [
    "sql = \"INSERT INTO dsm_criteria VALUES (0, 9999)\"\n",
    "execute_sql(sql)"
   ]
  },
  {
   "cell_type": "code",
   "execution_count": 13,
   "id": "a9636873",
   "metadata": {},
   "outputs": [
    {
     "data": {
      "text/plain": [
       "(('idx', 'int', 'NO', 'PRI', None, ''),\n",
       " ('criteria_idx', 'int', 'YES', '', None, ''))"
      ]
     },
     "execution_count": 13,
     "metadata": {},
     "output_type": "execute_result"
    }
   ],
   "source": [
    "sql = 'DESC dsm_criteria;'\n",
    "\n",
    "execute_sql(sql)"
   ]
  },
  {
   "cell_type": "code",
   "execution_count": 14,
   "id": "b71ade87",
   "metadata": {},
   "outputs": [
    {
     "data": {
      "text/plain": [
       "()"
      ]
     },
     "execution_count": 14,
     "metadata": {},
     "output_type": "execute_result"
    }
   ],
   "source": [
    "sql = \"CREATE TABLE dsm_table(idx int NOT NULL, \\\n",
    "text varchar(2000) NOT NULL, \\\n",
    "label int NOT NULL, \\\n",
    "annot int NOT NULL, \\\n",
    "PRIMARY KEY(idx) \\\n",
    ")\"\n",
    "\n",
    "execute_sql(sql)"
   ]
  },
  {
   "cell_type": "code",
   "execution_count": 15,
   "id": "55fc5154",
   "metadata": {},
   "outputs": [
    {
     "data": {
      "text/plain": [
       "()"
      ]
     },
     "execution_count": 15,
     "metadata": {},
     "output_type": "execute_result"
    }
   ],
   "source": [
    "# 테이블에 한글 문자 입력 가능하도록 변경\n",
    "sql = \"ALTER TABLE dsm_table convert to charset utf8;\"  \n",
    "\n",
    "execute_sql(sql)"
   ]
  },
  {
   "cell_type": "code",
   "execution_count": 16,
   "id": "08fa5fff",
   "metadata": {},
   "outputs": [
    {
     "data": {
      "text/plain": [
       "(('idx', 'int', 'NO', 'PRI', None, ''),\n",
       " ('text', 'varchar(2000)', 'NO', '', None, ''),\n",
       " ('label', 'int', 'NO', '', None, ''),\n",
       " ('annot', 'int', 'NO', '', None, ''))"
      ]
     },
     "execution_count": 16,
     "metadata": {},
     "output_type": "execute_result"
    }
   ],
   "source": [
    "sql = 'DESC dsm_table;'\n",
    "\n",
    "execute_sql(sql)"
   ]
  },
  {
   "cell_type": "code",
   "execution_count": 17,
   "id": "9698b458",
   "metadata": {},
   "outputs": [],
   "source": [
    "file = open(os.path.join(data_path, 'dsm_db.csv'),'r', encoding='UTF8')\n",
    "fReader = csv.reader(file)"
   ]
  },
  {
   "cell_type": "code",
   "execution_count": 18,
   "id": "ae3ca2f8",
   "metadata": {},
   "outputs": [
    {
     "data": {
      "text/plain": [
       "0"
      ]
     },
     "execution_count": 18,
     "metadata": {},
     "output_type": "execute_result"
    }
   ],
   "source": [
    "idx_list = []\n",
    "\n",
    "for idx, line in enumerate(fReader):\n",
    "    if idx == 0: \n",
    "        continue \n",
    "    \n",
    "    try:    # ' -> 제거하지 않으면 오류 발생 \n",
    "        sql = \"INSERT INTO dsm_table VALUES('{0}', '{1}', '{2}', '{3}')\"\\\n",
    "        .format(line[0], line[1].replace(\"'\", ''), line[2], line[3])\n",
    "        curs.execute(sql)\n",
    "    except:\n",
    "        idx_list.append(idx)\n",
    "        continue     \n",
    "\n",
    "len(idx_list)"
   ]
  },
  {
   "cell_type": "code",
   "execution_count": 19,
   "id": "a4aa9563",
   "metadata": {},
   "outputs": [],
   "source": [
    "dsm_map = dsm_samp[['idx', 'label']]"
   ]
  },
  {
   "cell_type": "code",
   "execution_count": 20,
   "id": "5dfe5a3c",
   "metadata": {},
   "outputs": [
    {
     "data": {
      "text/html": [
       "<div>\n",
       "<style scoped>\n",
       "    .dataframe tbody tr th:only-of-type {\n",
       "        vertical-align: middle;\n",
       "    }\n",
       "\n",
       "    .dataframe tbody tr th {\n",
       "        vertical-align: top;\n",
       "    }\n",
       "\n",
       "    .dataframe thead th {\n",
       "        text-align: right;\n",
       "    }\n",
       "</style>\n",
       "<table border=\"1\" class=\"dataframe\">\n",
       "  <thead>\n",
       "    <tr style=\"text-align: right;\">\n",
       "      <th></th>\n",
       "      <th>idx</th>\n",
       "      <th>label</th>\n",
       "    </tr>\n",
       "  </thead>\n",
       "  <tbody>\n",
       "    <tr>\n",
       "      <th>30000</th>\n",
       "      <td>30000</td>\n",
       "      <td>1</td>\n",
       "    </tr>\n",
       "    <tr>\n",
       "      <th>30001</th>\n",
       "      <td>30001</td>\n",
       "      <td>1</td>\n",
       "    </tr>\n",
       "    <tr>\n",
       "      <th>30002</th>\n",
       "      <td>30002</td>\n",
       "      <td>1</td>\n",
       "    </tr>\n",
       "    <tr>\n",
       "      <th>30003</th>\n",
       "      <td>30003</td>\n",
       "      <td>1</td>\n",
       "    </tr>\n",
       "    <tr>\n",
       "      <th>30004</th>\n",
       "      <td>30004</td>\n",
       "      <td>1</td>\n",
       "    </tr>\n",
       "    <tr>\n",
       "      <th>...</th>\n",
       "      <td>...</td>\n",
       "      <td>...</td>\n",
       "    </tr>\n",
       "    <tr>\n",
       "      <th>35050</th>\n",
       "      <td>35050</td>\n",
       "      <td>1</td>\n",
       "    </tr>\n",
       "    <tr>\n",
       "      <th>35051</th>\n",
       "      <td>35051</td>\n",
       "      <td>1</td>\n",
       "    </tr>\n",
       "    <tr>\n",
       "      <th>35052</th>\n",
       "      <td>35052</td>\n",
       "      <td>1</td>\n",
       "    </tr>\n",
       "    <tr>\n",
       "      <th>35053</th>\n",
       "      <td>35053</td>\n",
       "      <td>1</td>\n",
       "    </tr>\n",
       "    <tr>\n",
       "      <th>35054</th>\n",
       "      <td>35054</td>\n",
       "      <td>1</td>\n",
       "    </tr>\n",
       "  </tbody>\n",
       "</table>\n",
       "<p>5055 rows × 2 columns</p>\n",
       "</div>"
      ],
      "text/plain": [
       "         idx  label\n",
       "30000  30000      1\n",
       "30001  30001      1\n",
       "30002  30002      1\n",
       "30003  30003      1\n",
       "30004  30004      1\n",
       "...      ...    ...\n",
       "35050  35050      1\n",
       "35051  35051      1\n",
       "35052  35052      1\n",
       "35053  35053      1\n",
       "35054  35054      1\n",
       "\n",
       "[5055 rows x 2 columns]"
      ]
     },
     "execution_count": 20,
     "metadata": {},
     "output_type": "execute_result"
    }
   ],
   "source": [
    "dsm_a1 = dsm_map[dsm_samp.label == 0]\n",
    "dsm_a2 = dsm_map[dsm_samp.label == 1]\n",
    "dsm_a3 = dsm_map[dsm_samp.label == 2]\n",
    "dsm_a4 = dsm_map[dsm_samp.label == 3]\n",
    "dsm_a5 = dsm_map[dsm_samp.label == 4]\n",
    "dsm_a6 = dsm_map[dsm_samp.label == 5]\n",
    "dsm_a7 = dsm_map[dsm_samp.label == 6]\n",
    "dsm_a8 = dsm_map[dsm_samp.label == 7]\n",
    "dsm_a9 = dsm_map[dsm_samp.label == 8]\n",
    "\n",
    "dsm_a2"
   ]
  },
  {
   "cell_type": "code",
   "execution_count": 21,
   "id": "2221ee8c",
   "metadata": {},
   "outputs": [],
   "source": [
    "dsm_a2.reset_index(inplace=True, drop=True)\n",
    "dsm_a3.reset_index(inplace=True, drop=True)\n",
    "dsm_a4.reset_index(inplace=True, drop=True)\n",
    "dsm_a5.reset_index(inplace=True, drop=True)\n",
    "dsm_a6.reset_index(inplace=True, drop=True)\n",
    "dsm_a7.reset_index(inplace=True, drop=True)\n",
    "dsm_a8.reset_index(inplace=True, drop=True)\n",
    "dsm_a9.reset_index(inplace=True, drop=True)"
   ]
  },
  {
   "cell_type": "code",
   "execution_count": 22,
   "id": "c3bd95db",
   "metadata": {
    "collapsed": true
   },
   "outputs": [
    {
     "name": "stderr",
     "output_type": "stream",
     "text": [
      "<ipython-input-22-c9c280de79b6>:1: SettingWithCopyWarning: \n",
      "A value is trying to be set on a copy of a slice from a DataFrame.\n",
      "Try using .loc[row_indexer,col_indexer] = value instead\n",
      "\n",
      "See the caveats in the documentation: https://pandas.pydata.org/pandas-docs/stable/user_guide/indexing.html#returning-a-view-versus-a-copy\n",
      "  dsm_a1['criteria_idx'] = dsm_a1.index\n",
      "<ipython-input-22-c9c280de79b6>:2: SettingWithCopyWarning: \n",
      "A value is trying to be set on a copy of a slice from a DataFrame.\n",
      "Try using .loc[row_indexer,col_indexer] = value instead\n",
      "\n",
      "See the caveats in the documentation: https://pandas.pydata.org/pandas-docs/stable/user_guide/indexing.html#returning-a-view-versus-a-copy\n",
      "  dsm_a2['criteria_idx'] = dsm_a2.index\n",
      "<ipython-input-22-c9c280de79b6>:3: SettingWithCopyWarning: \n",
      "A value is trying to be set on a copy of a slice from a DataFrame.\n",
      "Try using .loc[row_indexer,col_indexer] = value instead\n",
      "\n",
      "See the caveats in the documentation: https://pandas.pydata.org/pandas-docs/stable/user_guide/indexing.html#returning-a-view-versus-a-copy\n",
      "  dsm_a3['criteria_idx'] = dsm_a3.index\n",
      "<ipython-input-22-c9c280de79b6>:4: SettingWithCopyWarning: \n",
      "A value is trying to be set on a copy of a slice from a DataFrame.\n",
      "Try using .loc[row_indexer,col_indexer] = value instead\n",
      "\n",
      "See the caveats in the documentation: https://pandas.pydata.org/pandas-docs/stable/user_guide/indexing.html#returning-a-view-versus-a-copy\n",
      "  dsm_a4['criteria_idx'] = dsm_a4.index\n",
      "<ipython-input-22-c9c280de79b6>:5: SettingWithCopyWarning: \n",
      "A value is trying to be set on a copy of a slice from a DataFrame.\n",
      "Try using .loc[row_indexer,col_indexer] = value instead\n",
      "\n",
      "See the caveats in the documentation: https://pandas.pydata.org/pandas-docs/stable/user_guide/indexing.html#returning-a-view-versus-a-copy\n",
      "  dsm_a5['criteria_idx'] = dsm_a5.index\n",
      "<ipython-input-22-c9c280de79b6>:6: SettingWithCopyWarning: \n",
      "A value is trying to be set on a copy of a slice from a DataFrame.\n",
      "Try using .loc[row_indexer,col_indexer] = value instead\n",
      "\n",
      "See the caveats in the documentation: https://pandas.pydata.org/pandas-docs/stable/user_guide/indexing.html#returning-a-view-versus-a-copy\n",
      "  dsm_a6['criteria_idx'] = dsm_a6.index\n",
      "<ipython-input-22-c9c280de79b6>:7: SettingWithCopyWarning: \n",
      "A value is trying to be set on a copy of a slice from a DataFrame.\n",
      "Try using .loc[row_indexer,col_indexer] = value instead\n",
      "\n",
      "See the caveats in the documentation: https://pandas.pydata.org/pandas-docs/stable/user_guide/indexing.html#returning-a-view-versus-a-copy\n",
      "  dsm_a7['criteria_idx'] = dsm_a7.index\n",
      "<ipython-input-22-c9c280de79b6>:8: SettingWithCopyWarning: \n",
      "A value is trying to be set on a copy of a slice from a DataFrame.\n",
      "Try using .loc[row_indexer,col_indexer] = value instead\n",
      "\n",
      "See the caveats in the documentation: https://pandas.pydata.org/pandas-docs/stable/user_guide/indexing.html#returning-a-view-versus-a-copy\n",
      "  dsm_a8['criteria_idx'] = dsm_a8.index\n",
      "<ipython-input-22-c9c280de79b6>:9: SettingWithCopyWarning: \n",
      "A value is trying to be set on a copy of a slice from a DataFrame.\n",
      "Try using .loc[row_indexer,col_indexer] = value instead\n",
      "\n",
      "See the caveats in the documentation: https://pandas.pydata.org/pandas-docs/stable/user_guide/indexing.html#returning-a-view-versus-a-copy\n",
      "  dsm_a9['criteria_idx'] = dsm_a9.index\n"
     ]
    }
   ],
   "source": [
    "dsm_a1['criteria_idx'] = dsm_a1.index\n",
    "dsm_a2['criteria_idx'] = dsm_a2.index\n",
    "dsm_a3['criteria_idx'] = dsm_a3.index\n",
    "dsm_a4['criteria_idx'] = dsm_a4.index\n",
    "dsm_a5['criteria_idx'] = dsm_a5.index\n",
    "dsm_a6['criteria_idx'] = dsm_a6.index\n",
    "dsm_a7['criteria_idx'] = dsm_a7.index\n",
    "dsm_a8['criteria_idx'] = dsm_a8.index\n",
    "dsm_a9['criteria_idx'] = dsm_a9.index"
   ]
  },
  {
   "cell_type": "code",
   "execution_count": 23,
   "id": "f7892744",
   "metadata": {
    "collapsed": true
   },
   "outputs": [
    {
     "name": "stderr",
     "output_type": "stream",
     "text": [
      "<ipython-input-23-f6b4b1f49c27>:1: SettingWithCopyWarning: \n",
      "A value is trying to be set on a copy of a slice from a DataFrame.\n",
      "Try using .loc[row_indexer,col_indexer] = value instead\n",
      "\n",
      "See the caveats in the documentation: https://pandas.pydata.org/pandas-docs/stable/user_guide/indexing.html#returning-a-view-versus-a-copy\n",
      "  dsm_a1['criteria'] = 0\n",
      "<ipython-input-23-f6b4b1f49c27>:2: SettingWithCopyWarning: \n",
      "A value is trying to be set on a copy of a slice from a DataFrame.\n",
      "Try using .loc[row_indexer,col_indexer] = value instead\n",
      "\n",
      "See the caveats in the documentation: https://pandas.pydata.org/pandas-docs/stable/user_guide/indexing.html#returning-a-view-versus-a-copy\n",
      "  dsm_a2['criteria'] = 1\n",
      "<ipython-input-23-f6b4b1f49c27>:3: SettingWithCopyWarning: \n",
      "A value is trying to be set on a copy of a slice from a DataFrame.\n",
      "Try using .loc[row_indexer,col_indexer] = value instead\n",
      "\n",
      "See the caveats in the documentation: https://pandas.pydata.org/pandas-docs/stable/user_guide/indexing.html#returning-a-view-versus-a-copy\n",
      "  dsm_a3['criteria'] = 2\n",
      "<ipython-input-23-f6b4b1f49c27>:4: SettingWithCopyWarning: \n",
      "A value is trying to be set on a copy of a slice from a DataFrame.\n",
      "Try using .loc[row_indexer,col_indexer] = value instead\n",
      "\n",
      "See the caveats in the documentation: https://pandas.pydata.org/pandas-docs/stable/user_guide/indexing.html#returning-a-view-versus-a-copy\n",
      "  dsm_a4['criteria'] = 3\n",
      "<ipython-input-23-f6b4b1f49c27>:5: SettingWithCopyWarning: \n",
      "A value is trying to be set on a copy of a slice from a DataFrame.\n",
      "Try using .loc[row_indexer,col_indexer] = value instead\n",
      "\n",
      "See the caveats in the documentation: https://pandas.pydata.org/pandas-docs/stable/user_guide/indexing.html#returning-a-view-versus-a-copy\n",
      "  dsm_a5['criteria'] = 4\n",
      "<ipython-input-23-f6b4b1f49c27>:6: SettingWithCopyWarning: \n",
      "A value is trying to be set on a copy of a slice from a DataFrame.\n",
      "Try using .loc[row_indexer,col_indexer] = value instead\n",
      "\n",
      "See the caveats in the documentation: https://pandas.pydata.org/pandas-docs/stable/user_guide/indexing.html#returning-a-view-versus-a-copy\n",
      "  dsm_a6['criteria'] = 5\n",
      "<ipython-input-23-f6b4b1f49c27>:7: SettingWithCopyWarning: \n",
      "A value is trying to be set on a copy of a slice from a DataFrame.\n",
      "Try using .loc[row_indexer,col_indexer] = value instead\n",
      "\n",
      "See the caveats in the documentation: https://pandas.pydata.org/pandas-docs/stable/user_guide/indexing.html#returning-a-view-versus-a-copy\n",
      "  dsm_a7['criteria'] = 6\n",
      "<ipython-input-23-f6b4b1f49c27>:8: SettingWithCopyWarning: \n",
      "A value is trying to be set on a copy of a slice from a DataFrame.\n",
      "Try using .loc[row_indexer,col_indexer] = value instead\n",
      "\n",
      "See the caveats in the documentation: https://pandas.pydata.org/pandas-docs/stable/user_guide/indexing.html#returning-a-view-versus-a-copy\n",
      "  dsm_a8['criteria'] = 7\n",
      "<ipython-input-23-f6b4b1f49c27>:9: SettingWithCopyWarning: \n",
      "A value is trying to be set on a copy of a slice from a DataFrame.\n",
      "Try using .loc[row_indexer,col_indexer] = value instead\n",
      "\n",
      "See the caveats in the documentation: https://pandas.pydata.org/pandas-docs/stable/user_guide/indexing.html#returning-a-view-versus-a-copy\n",
      "  dsm_a9['criteria'] = 8\n"
     ]
    }
   ],
   "source": [
    "dsm_a1['criteria'] = 0 \n",
    "dsm_a2['criteria'] = 1\n",
    "dsm_a3['criteria'] = 2 \n",
    "dsm_a4['criteria'] = 3\n",
    "dsm_a5['criteria'] = 4 \n",
    "dsm_a6['criteria'] = 5\n",
    "dsm_a7['criteria'] = 6 \n",
    "dsm_a8['criteria'] = 7\n",
    "dsm_a9['criteria'] = 8 "
   ]
  },
  {
   "cell_type": "code",
   "execution_count": 24,
   "id": "5789cd4f",
   "metadata": {},
   "outputs": [],
   "source": [
    "dsm_a1 = dsm_a1[['idx', 'criteria', 'criteria_idx']]\n",
    "dsm_a2 = dsm_a2[['idx', 'criteria', 'criteria_idx']]\n",
    "dsm_a3 = dsm_a3[['idx', 'criteria', 'criteria_idx']]\n",
    "dsm_a4 = dsm_a4[['idx', 'criteria', 'criteria_idx']]\n",
    "dsm_a5 = dsm_a5[['idx', 'criteria', 'criteria_idx']]\n",
    "dsm_a6 = dsm_a6[['idx', 'criteria', 'criteria_idx']]\n",
    "dsm_a7 = dsm_a7[['idx', 'criteria', 'criteria_idx']]\n",
    "dsm_a8 = dsm_a8[['idx', 'criteria', 'criteria_idx']]\n",
    "dsm_a9 = dsm_a9[['idx', 'criteria', 'criteria_idx']]"
   ]
  },
  {
   "cell_type": "code",
   "execution_count": 25,
   "id": "65bc2cf6",
   "metadata": {},
   "outputs": [],
   "source": [
    "dsm_map = pd.concat([dsm_a1, dsm_a2, dsm_a3, dsm_a4, dsm_a5, dsm_a6, dsm_a7, dsm_a8, dsm_a9])\n",
    "dsm_map.reset_index(inplace=True, drop=True)"
   ]
  },
  {
   "cell_type": "code",
   "execution_count": 26,
   "id": "eeb5a85b",
   "metadata": {},
   "outputs": [],
   "source": [
    "dsm_map.to_csv(os.path.join(data_path, 'dsm_map.csv'), index=False)"
   ]
  },
  {
   "cell_type": "code",
   "execution_count": 27,
   "id": "aac2cd0b",
   "metadata": {},
   "outputs": [
    {
     "data": {
      "text/plain": [
       "()"
      ]
     },
     "execution_count": 27,
     "metadata": {},
     "output_type": "execute_result"
    }
   ],
   "source": [
    "sql = \"CREATE TABLE map_criteria(idx int NOT NULL, \\\n",
    "criteria int, \\\n",
    "criteria_idx int, \\\n",
    "PRIMARY KEY(idx) \\\n",
    ")\"\n",
    "\n",
    "execute_sql(sql)"
   ]
  },
  {
   "cell_type": "code",
   "execution_count": 28,
   "id": "7bc34de8",
   "metadata": {},
   "outputs": [],
   "source": [
    "file = open(os.path.join(data_path, 'dsm_map.csv'),'r', encoding='UTF8')\n",
    "fReader = csv.reader(file)"
   ]
  },
  {
   "cell_type": "code",
   "execution_count": 29,
   "id": "c1611e80",
   "metadata": {},
   "outputs": [
    {
     "data": {
      "text/plain": [
       "0"
      ]
     },
     "execution_count": 29,
     "metadata": {},
     "output_type": "execute_result"
    }
   ],
   "source": [
    "idx_list = []\n",
    "\n",
    "for idx, line in enumerate(fReader):\n",
    "    if idx == 0: \n",
    "        continue \n",
    "    \n",
    "    try:    # ' -> 제거하지 않으면 오류 발생 \n",
    "        sql = \"INSERT INTO map_criteria VALUES('{0}', '{1}', '{2}')\"\\\n",
    "        .format(line[0], line[1], line[2])\n",
    "        curs.execute(sql)\n",
    "    except:\n",
    "        idx_list.append(idx)\n",
    "        continue     \n",
    "\n",
    "len(idx_list)"
   ]
  },
  {
   "cell_type": "code",
   "execution_count": 40,
   "id": "76a8aeb9",
   "metadata": {},
   "outputs": [],
   "source": [
    "curs.fetchall()\n",
    "curs.close()\n",
    "conn.commit()\n",
    "conn.close()"
   ]
  },
  {
   "cell_type": "code",
   "execution_count": 58,
   "id": "ed2683ff",
   "metadata": {},
   "outputs": [
    {
     "data": {
      "text/html": [
       "<div>\n",
       "<style scoped>\n",
       "    .dataframe tbody tr th:only-of-type {\n",
       "        vertical-align: middle;\n",
       "    }\n",
       "\n",
       "    .dataframe tbody tr th {\n",
       "        vertical-align: top;\n",
       "    }\n",
       "\n",
       "    .dataframe thead th {\n",
       "        text-align: right;\n",
       "    }\n",
       "</style>\n",
       "<table border=\"1\" class=\"dataframe\">\n",
       "  <thead>\n",
       "    <tr style=\"text-align: right;\">\n",
       "      <th></th>\n",
       "      <th>idx</th>\n",
       "      <th>text</th>\n",
       "      <th>label</th>\n",
       "      <th>annot</th>\n",
       "    </tr>\n",
       "  </thead>\n",
       "  <tbody>\n",
       "    <tr>\n",
       "      <th>105779</th>\n",
       "      <td>105779</td>\n",
       "      <td>Externalizing the fantasy just means you want ...</td>\n",
       "      <td>8</td>\n",
       "      <td>9999</td>\n",
       "    </tr>\n",
       "    <tr>\n",
       "      <th>106599</th>\n",
       "      <td>106599</td>\n",
       "      <td>I keep thinking about writing a letter to my f...</td>\n",
       "      <td>8</td>\n",
       "      <td>9999</td>\n",
       "    </tr>\n",
       "    <tr>\n",
       "      <th>104138</th>\n",
       "      <td>104138</td>\n",
       "      <td>But now I'm not, I'm not going to see the ther...</td>\n",
       "      <td>8</td>\n",
       "      <td>9999</td>\n",
       "    </tr>\n",
       "    <tr>\n",
       "      <th>119143</th>\n",
       "      <td>119143</td>\n",
       "      <td>DOWMVOTED ME LOLOLOLOLOLOLOOL YOLOL im not ars...</td>\n",
       "      <td>8</td>\n",
       "      <td>9999</td>\n",
       "    </tr>\n",
       "    <tr>\n",
       "      <th>104058</th>\n",
       "      <td>104058</td>\n",
       "      <td>I have been having thoughts about killing myse...</td>\n",
       "      <td>8</td>\n",
       "      <td>9999</td>\n",
       "    </tr>\n",
       "    <tr>\n",
       "      <th>...</th>\n",
       "      <td>...</td>\n",
       "      <td>...</td>\n",
       "      <td>...</td>\n",
       "      <td>...</td>\n",
       "    </tr>\n",
       "    <tr>\n",
       "      <th>107373</th>\n",
       "      <td>107373</td>\n",
       "      <td>I want out but have nowhere to go, I just want...</td>\n",
       "      <td>8</td>\n",
       "      <td>9999</td>\n",
       "    </tr>\n",
       "    <tr>\n",
       "      <th>119411</th>\n",
       "      <td>119411</td>\n",
       "      <td>They helped me in the sense that they numbed m...</td>\n",
       "      <td>8</td>\n",
       "      <td>9999</td>\n",
       "    </tr>\n",
       "    <tr>\n",
       "      <th>118006</th>\n",
       "      <td>118006</td>\n",
       "      <td>I think I decided I'm going to kill myself</td>\n",
       "      <td>8</td>\n",
       "      <td>9999</td>\n",
       "    </tr>\n",
       "    <tr>\n",
       "      <th>101887</th>\n",
       "      <td>101887</td>\n",
       "      <td>I don't think I'm ever going to kill myself, b...</td>\n",
       "      <td>8</td>\n",
       "      <td>9999</td>\n",
       "    </tr>\n",
       "    <tr>\n",
       "      <th>111385</th>\n",
       "      <td>111385</td>\n",
       "      <td>The idea that you will die someday does not bo...</td>\n",
       "      <td>8</td>\n",
       "      <td>9999</td>\n",
       "    </tr>\n",
       "  </tbody>\n",
       "</table>\n",
       "<p>2000 rows × 4 columns</p>\n",
       "</div>"
      ],
      "text/plain": [
       "           idx                                               text  label  \\\n",
       "105779  105779  Externalizing the fantasy just means you want ...      8   \n",
       "106599  106599  I keep thinking about writing a letter to my f...      8   \n",
       "104138  104138  But now I'm not, I'm not going to see the ther...      8   \n",
       "119143  119143  DOWMVOTED ME LOLOLOLOLOLOLOOL YOLOL im not ars...      8   \n",
       "104058  104058  I have been having thoughts about killing myse...      8   \n",
       "...        ...                                                ...    ...   \n",
       "107373  107373  I want out but have nowhere to go, I just want...      8   \n",
       "119411  119411  They helped me in the sense that they numbed m...      8   \n",
       "118006  118006         I think I decided I'm going to kill myself      8   \n",
       "101887  101887  I don't think I'm ever going to kill myself, b...      8   \n",
       "111385  111385  The idea that you will die someday does not bo...      8   \n",
       "\n",
       "        annot  \n",
       "105779   9999  \n",
       "106599   9999  \n",
       "104138   9999  \n",
       "119143   9999  \n",
       "104058   9999  \n",
       "...       ...  \n",
       "107373   9999  \n",
       "119411   9999  \n",
       "118006   9999  \n",
       "101887   9999  \n",
       "111385   9999  \n",
       "\n",
       "[2000 rows x 4 columns]"
      ]
     },
     "execution_count": 58,
     "metadata": {},
     "output_type": "execute_result"
    }
   ],
   "source": [
    "upload_samp = dsm_samp[dsm_samp.label==8].sample(2000)\n",
    "upload_samp"
   ]
  },
  {
   "cell_type": "code",
   "execution_count": 59,
   "id": "d95eb40f",
   "metadata": {},
   "outputs": [
    {
     "data": {
      "text/html": [
       "<div>\n",
       "<style scoped>\n",
       "    .dataframe tbody tr th:only-of-type {\n",
       "        vertical-align: middle;\n",
       "    }\n",
       "\n",
       "    .dataframe tbody tr th {\n",
       "        vertical-align: top;\n",
       "    }\n",
       "\n",
       "    .dataframe thead th {\n",
       "        text-align: right;\n",
       "    }\n",
       "</style>\n",
       "<table border=\"1\" class=\"dataframe\">\n",
       "  <thead>\n",
       "    <tr style=\"text-align: right;\">\n",
       "      <th></th>\n",
       "      <th>idx</th>\n",
       "      <th>text</th>\n",
       "      <th>label</th>\n",
       "      <th>annot</th>\n",
       "    </tr>\n",
       "  </thead>\n",
       "  <tbody>\n",
       "    <tr>\n",
       "      <th>0</th>\n",
       "      <td>0</td>\n",
       "      <td>Externalizing the fantasy just means you want ...</td>\n",
       "      <td>8</td>\n",
       "      <td>9999</td>\n",
       "    </tr>\n",
       "    <tr>\n",
       "      <th>1</th>\n",
       "      <td>1</td>\n",
       "      <td>I keep thinking about writing a letter to my f...</td>\n",
       "      <td>8</td>\n",
       "      <td>9999</td>\n",
       "    </tr>\n",
       "    <tr>\n",
       "      <th>2</th>\n",
       "      <td>2</td>\n",
       "      <td>But now I'm not, I'm not going to see the ther...</td>\n",
       "      <td>8</td>\n",
       "      <td>9999</td>\n",
       "    </tr>\n",
       "    <tr>\n",
       "      <th>3</th>\n",
       "      <td>3</td>\n",
       "      <td>DOWMVOTED ME LOLOLOLOLOLOLOOL YOLOL im not ars...</td>\n",
       "      <td>8</td>\n",
       "      <td>9999</td>\n",
       "    </tr>\n",
       "    <tr>\n",
       "      <th>4</th>\n",
       "      <td>4</td>\n",
       "      <td>I have been having thoughts about killing myse...</td>\n",
       "      <td>8</td>\n",
       "      <td>9999</td>\n",
       "    </tr>\n",
       "    <tr>\n",
       "      <th>...</th>\n",
       "      <td>...</td>\n",
       "      <td>...</td>\n",
       "      <td>...</td>\n",
       "      <td>...</td>\n",
       "    </tr>\n",
       "    <tr>\n",
       "      <th>1995</th>\n",
       "      <td>1995</td>\n",
       "      <td>I want out but have nowhere to go, I just want...</td>\n",
       "      <td>8</td>\n",
       "      <td>9999</td>\n",
       "    </tr>\n",
       "    <tr>\n",
       "      <th>1996</th>\n",
       "      <td>1996</td>\n",
       "      <td>They helped me in the sense that they numbed m...</td>\n",
       "      <td>8</td>\n",
       "      <td>9999</td>\n",
       "    </tr>\n",
       "    <tr>\n",
       "      <th>1997</th>\n",
       "      <td>1997</td>\n",
       "      <td>I think I decided I'm going to kill myself</td>\n",
       "      <td>8</td>\n",
       "      <td>9999</td>\n",
       "    </tr>\n",
       "    <tr>\n",
       "      <th>1998</th>\n",
       "      <td>1998</td>\n",
       "      <td>I don't think I'm ever going to kill myself, b...</td>\n",
       "      <td>8</td>\n",
       "      <td>9999</td>\n",
       "    </tr>\n",
       "    <tr>\n",
       "      <th>1999</th>\n",
       "      <td>1999</td>\n",
       "      <td>The idea that you will die someday does not bo...</td>\n",
       "      <td>8</td>\n",
       "      <td>9999</td>\n",
       "    </tr>\n",
       "  </tbody>\n",
       "</table>\n",
       "<p>2000 rows × 4 columns</p>\n",
       "</div>"
      ],
      "text/plain": [
       "       idx                                               text  label  annot\n",
       "0        0  Externalizing the fantasy just means you want ...      8   9999\n",
       "1        1  I keep thinking about writing a letter to my f...      8   9999\n",
       "2        2  But now I'm not, I'm not going to see the ther...      8   9999\n",
       "3        3  DOWMVOTED ME LOLOLOLOLOLOLOOL YOLOL im not ars...      8   9999\n",
       "4        4  I have been having thoughts about killing myse...      8   9999\n",
       "...    ...                                                ...    ...    ...\n",
       "1995  1995  I want out but have nowhere to go, I just want...      8   9999\n",
       "1996  1996  They helped me in the sense that they numbed m...      8   9999\n",
       "1997  1997         I think I decided I'm going to kill myself      8   9999\n",
       "1998  1998  I don't think I'm ever going to kill myself, b...      8   9999\n",
       "1999  1999  The idea that you will die someday does not bo...      8   9999\n",
       "\n",
       "[2000 rows x 4 columns]"
      ]
     },
     "execution_count": 59,
     "metadata": {},
     "output_type": "execute_result"
    }
   ],
   "source": [
    "upload_samp.reset_index(inplace=True, drop=True)\n",
    "upload_samp['idx'] = upload_samp.index\n",
    "upload_samp"
   ]
  },
  {
   "cell_type": "code",
   "execution_count": 60,
   "id": "5c603448",
   "metadata": {},
   "outputs": [],
   "source": [
    "upload_samp.to_csv(os.path.join(data_path, 'upload_samp8.csv'), index=False)"
   ]
  },
  {
   "cell_type": "code",
   "execution_count": null,
   "id": "7f04ef30",
   "metadata": {},
   "outputs": [],
   "source": []
  }
 ],
 "metadata": {
  "kernelspec": {
   "display_name": "Python 3",
   "language": "python",
   "name": "python3"
  },
  "language_info": {
   "codemirror_mode": {
    "name": "ipython",
    "version": 3
   },
   "file_extension": ".py",
   "mimetype": "text/x-python",
   "name": "python",
   "nbconvert_exporter": "python",
   "pygments_lexer": "ipython3",
   "version": "3.8.8"
  }
 },
 "nbformat": 4,
 "nbformat_minor": 5
}
